{
 "cells": [
  {
   "cell_type": "markdown",
   "metadata": {},
   "source": [
    "# Laboratório #10 - Programação Funcional e List Comprehension \n",
    "\n",
    "### ATENCÃO\n",
    "\n",
    "1. Para cada um dos exercícios a seguir, faça o seguinte:\n",
    "    * Adicione comentários ao seu código. Os comentários servem para explicar o código, ajudando você a lembrar do que se trata aquele trecho de código, como também outras pessoas a entenderem o que foi feito.\n",
    "    * Caso o exercício involva a implementação de uma função:\n",
    "        + Coloque um comentário dizendo o que a função faz, use **docstrings**.\n",
    "        + Escolha nomes explicativos para suas funções e parâmetros.\n",
    "    \n",
    "2. Quando você terminar os exercícios do laboratório, vá ao menu do Jupyter ou Colab e selecione a opção para fazer download do notebook.\n",
    "    * Os notebooks tem extensão .ipynb. \n",
    "    * Este deve ser o arquivo que você irá entregar.\n",
    "    * No Jupyter vá até a opção **File** -> **Download as** -> **Notebook (.ipynb)**.\n",
    "    * No Colab vá até a opção **File** -> **Download .ipynb**."
   ]
  },
  {
   "cell_type": "markdown",
   "metadata": {},
   "source": [
    "**Nome**:\n",
    "\n",
    "**Matrícula**:"
   ]
  },
  {
   "cell_type": "markdown",
   "metadata": {},
   "source": [
    "## Exercícios"
   ]
  },
  {
   "cell_type": "markdown",
   "metadata": {},
   "source": [
    "#### 1)  Implemente uma função chamada `separaParImpar` utilizando funções lambda e filter para separar os números pares e ímpares de uma lista de números. Sua função deve retornar duas listas, uma com apenas números pares e outros apenas com números ímpares."
   ]
  },
  {
   "cell_type": "code",
   "execution_count": 70,
   "metadata": {},
   "outputs": [],
   "source": [
    "def separaParImpar(lista_entrada):\n",
    "    par = lambda l: l % 2 == 0\n",
    "    impar = lambda l: l % 2 == 1\n",
    "    iter_par = filter(par, lista_entrada)\n",
    "    iter_impar = filter(impar, lista_entrada)\n",
    "\n",
    "    return list(iter_par), list(iter_impar)"
   ]
  },
  {
   "cell_type": "markdown",
   "metadata": {},
   "source": [
    "Teste sua implementação com o código abaixo."
   ]
  },
  {
   "cell_type": "code",
   "execution_count": 71,
   "metadata": {},
   "outputs": [
    {
     "name": "stdout",
     "output_type": "stream",
     "text": [
      "Teste 1 - Success: Sua implementação está correta.\n"
     ]
    }
   ],
   "source": [
    "lista_entrada = [11, 35, 22, 56, 77, 99, 45, 36, 87, 93, 5, 78, 2, 66, 1, 0]\n",
    "\n",
    "listaPar, listaImpar = separaParImpar(lista_entrada)\n",
    "\n",
    "res = True;\n",
    "if(listaPar != [22, 56, 36, 78, 2, 66, 0]):\n",
    "    res = False\n",
    "    \n",
    "if(listaImpar != [11, 35, 77, 99, 45, 87, 93, 5, 1]):\n",
    "    res = False\n",
    "\n",
    "if(res == True):\n",
    "    print('Teste 1 - Success: Sua implementação está correta.')\n",
    "else:\n",
    "    print('Teste 1 - Fail: Sua implementação NÃO está correta.')"
   ]
  },
  {
   "cell_type": "markdown",
   "metadata": {},
   "source": [
    "#### 2)  Implemente uma função chamada `calcularPotenciaDe2` utilizando funções lambda e map para obter a potência de dois dos valores de uma lista. Sua função deve retornar uma lista com as potências dos valores da lista de entrada."
   ]
  },
  {
   "cell_type": "code",
   "execution_count": 72,
   "metadata": {},
   "outputs": [],
   "source": [
    "def calcularPotenciaDe2(lista_entrada):\n",
    "    return list(map(lambda x: x ** 2, lista_entrada))"
   ]
  },
  {
   "cell_type": "markdown",
   "metadata": {},
   "source": [
    "Teste sua implementação com o código abaixo."
   ]
  },
  {
   "cell_type": "code",
   "execution_count": 73,
   "metadata": {},
   "outputs": [
    {
     "name": "stdout",
     "output_type": "stream",
     "text": [
      "Teste 2 - Success: Sua implementação está correta.\n"
     ]
    }
   ],
   "source": [
    "lista_entrada = [0, 2, 45, 55, 100, 3, 5]\n",
    "\n",
    "listaSaida = calcularPotenciaDe2(lista_entrada)\n",
    "\n",
    "res = True\n",
    "if(listaSaida != [0, 4, 2025, 3025, 10000, 9, 25]):\n",
    "    res = False\n",
    "\n",
    "if(res == True):\n",
    "    print('Teste 2 - Success: Sua implementação está correta.')\n",
    "else:\n",
    "    print('Teste 2 - Fail: Sua implementação NÃO está correta.')"
   ]
  },
  {
   "cell_type": "markdown",
   "metadata": {},
   "source": [
    "#### 3)  Implemente uma função chamada `calcularExponencial` utilizando funções lambda e reduce para obter a potência de um número elevado a outro, e.g., $base^{expoente}$. Sua função deve receber 2 parâmetros de entrada, base`` e `expoente` e retornar o valor resultante da operação."
   ]
  },
  {
   "cell_type": "code",
   "execution_count": 74,
   "metadata": {},
   "outputs": [],
   "source": [
    "from functools import reduce\n",
    "\n",
    "def calcularExponencial(base, expoente):\n",
    "    if(expoente > 0):\n",
    "        lista = [base] * expoente\n",
    "        resultado = reduce(lambda x, y: x * y, lista)\n",
    "    else:\n",
    "        resultado = 1\n",
    "    return resultado"
   ]
  },
  {
   "cell_type": "markdown",
   "metadata": {},
   "source": [
    "Teste sua implementação com o código abaixo."
   ]
  },
  {
   "cell_type": "code",
   "execution_count": 75,
   "metadata": {},
   "outputs": [
    {
     "name": "stdout",
     "output_type": "stream",
     "text": [
      "Teste 3 - Success: Sua implementação está correta.\n"
     ]
    }
   ],
   "source": [
    "res = True\n",
    "if(calcularExponencial(2,0) != 1):\n",
    "    res = False\n",
    "if(calcularExponencial(2,1) != 2):\n",
    "    res = False    \n",
    "if(calcularExponencial(2,3) != 8):\n",
    "    res = False\n",
    "if(calcularExponencial(3,3) != 27):\n",
    "    res = False\n",
    "    \n",
    "if(res == True):\n",
    "    print('Teste 3 - Success: Sua implementação está correta.')\n",
    "else:\n",
    "    print('Teste 3 - Fail: Sua implementação NÃO está correta.')"
   ]
  },
  {
   "cell_type": "markdown",
   "metadata": {},
   "source": [
    "#### 4)  Implemente uma função chamada `separaParImpar2` utilizando list comprehension para separar os números pares e ímpares de uma lista de números de entrada. Sua função deve retornar duas listas, uma com apenas números pares e outros apenas com números ímpares."
   ]
  },
  {
   "cell_type": "code",
   "execution_count": 76,
   "metadata": {},
   "outputs": [],
   "source": [
    "def separaParImpar2(lista_entrada):\n",
    "    lista_par = [ x for x in lista_entrada if x % 2 == 0 ]\n",
    "    lista_impar = [ x for x in lista_entrada if x % 2 == 1 ]\n",
    "\n",
    "    return lista_par, lista_impar"
   ]
  },
  {
   "cell_type": "markdown",
   "metadata": {},
   "source": [
    "Teste sua implementação com o código abaixo."
   ]
  },
  {
   "cell_type": "code",
   "execution_count": 77,
   "metadata": {},
   "outputs": [
    {
     "name": "stdout",
     "output_type": "stream",
     "text": [
      "Teste 4 - Success: Sua implementação está correta.\n"
     ]
    }
   ],
   "source": [
    "lista_entrada = [11, 35, 22, 56, 77, 99, 45, 36, 87, 93, 5, 78, 2, 66, 1, 0, 57, 32]\n",
    "\n",
    "listaPar, listaImpar = separaParImpar2(lista_entrada)\n",
    "\n",
    "res = True;\n",
    "if(listaPar != [22, 56, 36, 78, 2, 66, 0, 32]):\n",
    "    res = False\n",
    "    \n",
    "if(listaImpar != [11, 35, 77, 99, 45, 87, 93, 5, 1, 57]):\n",
    "    res = False\n",
    "\n",
    "if(res == True):\n",
    "    print('Teste 4 - Success: Sua implementação está correta.')\n",
    "else:\n",
    "    print('Teste 4 - Fail: Sua implementação NÃO está correta.')"
   ]
  }
 ],
 "metadata": {
  "kernelspec": {
   "display_name": "Python 3",
   "language": "python",
   "name": "python3"
  },
  "language_info": {
   "codemirror_mode": {
    "name": "ipython",
    "version": 3
   },
   "file_extension": ".py",
   "mimetype": "text/x-python",
   "name": "python",
   "nbconvert_exporter": "python",
   "pygments_lexer": "ipython3",
   "version": "3.7.3"
  }
 },
 "nbformat": 4,
 "nbformat_minor": 4
}
