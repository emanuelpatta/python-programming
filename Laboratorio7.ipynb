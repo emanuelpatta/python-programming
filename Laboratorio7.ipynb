{
 "cells": [
  {
   "cell_type": "markdown",
   "metadata": {},
   "source": [
    "# Laboratório #7\n",
    "\n",
    "### ATENCÃO\n",
    "\n",
    "1. Para cada um dos exercícios a seguir, faça o seguinte:\n",
    "    * Adicione comentários ao seu código. Os comentários servem para explicar o código, ajudando você a lembrar do que se trata aquele trecho de código, como também outras pessoas a entenderem o que foi feito.\n",
    "    * Caso o exercício involva a implementação de uma função:\n",
    "        + Coloque um comentário dizendo o que a função faz, use **docstrings**.\n",
    "        + Escolha nomes explicativos para suas funções e parâmetros.\n",
    "    \n",
    "2. Quando você terminar os exercícios do laboratório, vá ao menu do Jupyter ou Colab e selecione a opção para fazer download do notebook.\n",
    "    * Os notebooks tem extensão .ipynb. \n",
    "    * Este deve ser o arquivo que você irá entregar.\n",
    "    * No Jupyter vá até a opção **File** -> **Download as** -> **Notebook (.ipynb)**.\n",
    "    * No Colab vá até a opção **File** -> **Download .ipynb**."
   ]
  },
  {
   "cell_type": "markdown",
   "metadata": {},
   "source": [
    "**Nome**:\n",
    "\n",
    "**Matrícula**:"
   ]
  },
  {
   "cell_type": "markdown",
   "metadata": {},
   "source": [
    "## Exercícios"
   ]
  },
  {
   "cell_type": "markdown",
   "metadata": {},
   "source": [
    "#### 1)  Neste exercício você vai implementar uma classe chamada `Calculadora` com 2 métodos, um público, chamado `calcular` e outro privado,  chamado `analisar_entrada`. \n",
    "\n",
    "1. O método `analisar_entrada` deve receber uma string como argumento de entrada, essa string, será a entrada do usuário e deve ser uma fórmula matemática em formato de string que consiste em um número, um operador (`+`, `-`, `/` e `*`) e outro número, separados por um espaço em branco (por exemplo, `1 + 1`). O método deve separar a entrada do usuário usando método `split()` da classe string e verificar se os elementos da lista resultante são válidos:\n",
    "\n",
    "    + Se a entrada não consistir de 3 elementos (número, operador, número), lance uma exceção `FormulaError`, que é uma customização daclasse `Exception`, com a string `'Entrada não possui 3 elementos.'`\n",
    "    + Tente converter a primeira entrada em um número do tipo float (assim: `float_value = float (str_value)`). Trate qualquer exceção do tipo `ValueError` que ocorra e, em vez disso, lance uma exceção do tipo `FormulaError` com a string `' A primeira entrada deve ser um número.'`.\n",
    "    + Tente converter a terceira entrada em um número do tipo float. Trate qualquer exceção do tipo `ValueError` que ocorra e, em vez disso, lance uma exceção do tipo `FormulaError` com a string `'A terceira entrada deve ser um número.'`.\n",
    "   \n",
    "Ao final, se os elementos forem válidos, o método `analisar_entrada` deve retornar os 3 elementos (i.e., os 2 valores e o operador).\n",
    "    \n",
    "2. O método `calcular` deve receber uma string como argumento de entrada e passá-la para o método `analisar_entrada`, que irá executar as análises de sintaxe mencionadas acima. Em seguida, após a execução do método `analisar_entrada`, de posse dos 3 elementos da fórmula, execute a operação solicitada pelo usuário. Se o operador não for `+`, `-`, `/` ou `*`, novamente lance uma exceção do tipo `FormulaError` com a string `'%s não é um operador válido...'`, onde `%s` é o operador inválido. Ao final, o método `calcular` deve retornar o resultado da operação solicitada pelo usuário."
   ]
  },
  {
   "cell_type": "code",
   "execution_count": 29,
   "metadata": {},
   "outputs": [],
   "source": [
    "class FormulaError(Exception):\n",
    "    pass\n",
    "\n",
    "class Calculadora:\n",
    "    \n",
    "    def calcular(self, entrada):\n",
    "        \n",
    "        n1, op, n2 = self.__analisar_entrada(entrada)\n",
    "\n",
    "        if op == '+':\n",
    "            resultado = n1 + n2\n",
    "        elif op == '-':\n",
    "            resultado = n1 - n2\n",
    "        elif op == '*':\n",
    "            resultado = n1 * n2\n",
    "        elif op == '/':\n",
    "            resultado = n1 / n2\n",
    "        else:\n",
    "            raise FormulaError('%s não é um operador válido...' % (op))\n",
    "        \n",
    "        return resultado\n",
    "        \n",
    "    def __analisar_entrada(self, entrada):\n",
    "        \n",
    "        entrada_list = entrada.split()\n",
    "        if len(entrada_list) != 3:\n",
    "            raise FormulaError('Entrada não possui 3 elementos.')\n",
    "        n1, op, n2 = entrada_list\n",
    "        try:\n",
    "            n1 = float(n1)\n",
    "        except ValueError:\n",
    "            raise FormulaError('A primeira entrada deve ser um número.')\n",
    "        try:\n",
    "            n2 = float(n2)\n",
    "        except ValueError:\n",
    "            raise FormulaError('A terceira entrada deve ser um número.')\n",
    "                \n",
    "        return n1, op, n2"
   ]
  },
  {
   "cell_type": "markdown",
   "metadata": {},
   "source": [
    "Execute o trecho de código abaixo para testar sua implementação. Se ela estiver correta, então todos os testes irão imprimir que os resultados estão corretos\n",
    "\n",
    "**NÃO ALTERE O CÓDIGO ABAIXO EM HIPÓTESE ALGUMA. SUA IMPLEMENTAÇÃO DEVE FUNCIONAR COM O TRECHO DE CÓDIGO ABAIXO SEM NENHUMA ALTERAÇÃO.**"
   ]
  },
  {
   "cell_type": "code",
   "execution_count": 30,
   "metadata": {},
   "outputs": [
    {
     "name": "stdout",
     "output_type": "stream",
     "text": [
      "Test 1: Resultados estão corretos.\n",
      "Test 2: Resultados estão corretos.\n"
     ]
    }
   ],
   "source": [
    "calculadora = Calculadora()\n",
    "\n",
    "# Testes válidos.\n",
    "entradas = ['1 + 1', '2 - 3', '2 / 4', '3 * 2']\n",
    "resultados_esperados = [2, -1, 0.5, 6]\n",
    "\n",
    "ret = True\n",
    "for i in range(0,len(entradas)):\n",
    "    if calculadora.calcular(entradas[i]) != resultados_esperados[i]:\n",
    "        ret = False\n",
    "        break\n",
    "        \n",
    "if ret == True:\n",
    "    print('Test 1: Resultados estão corretos.')\n",
    "else:\n",
    "    print('Test 1: Resultados NÃO estão corretos.')\n",
    "    \n",
    "# Testes inválidos.\n",
    "entradas = ['1+ 1', 'ss', 'q + 1', '2 * e', '3 & 2']\n",
    "resultados_esperados = ['Entrada não possui 3 elementos.',\n",
    "                        'Entrada não possui 3 elementos.',\n",
    "                        'A primeira entrada deve ser um número',\n",
    "                        'A terceira entrada deve ser um número',\n",
    "                        '& não é um operador válido...']\n",
    "\n",
    "ret = True\n",
    "for i in range(0,len(entradas)):\n",
    "    \n",
    "    resultado = -1\n",
    "    argumento = ''\n",
    "    try:\n",
    "        resultado = calculadora.calcular(entradas[i])\n",
    "    except FormulaError as e:\n",
    "        argumento = e.args[0]\n",
    "    \n",
    "    if resultado != -1 and argumento != resultados_esperados[i]:\n",
    "        ret = False\n",
    "        break\n",
    "        \n",
    "if ret == True:\n",
    "    print('Test 2: Resultados estão corretos.')\n",
    "else:\n",
    "    print('Test 2: Resultados NÃO estão corretos.')"
   ]
  },
  {
   "cell_type": "markdown",
   "metadata": {},
   "source": [
    "#### 2) O código abaixo precisa de cláusulas try / except. Como você pode perceber após executar o código da célula abaixo, o programa nela não é muito robusto a falhas. Nós podemos facilmente fazer com que cada uma das funções falhe. Observe cada função e veja como elas falham. Em seguida, faça com que cada uma das funções se torne mais robusta contra possíveis falhas, ou seja, use cláusulas try / except para deixá-lo mais robusto."
   ]
  },
  {
   "cell_type": "code",
   "execution_count": 44,
   "metadata": {},
   "outputs": [
    {
     "ename": "ValueError",
     "evalue": "invalid literal for int() with base 10: 'a'",
     "output_type": "error",
     "traceback": [
      "\u001b[1;31m---------------------------------------------------------------------------\u001b[0m",
      "\u001b[1;31mValueError\u001b[0m                                Traceback (most recent call last)",
      "\u001b[1;32m<ipython-input-44-6de8c200948c>\u001b[0m in \u001b[0;36m<module>\u001b[1;34m\u001b[0m\n\u001b[0;32m     32\u001b[0m     \u001b[0mfunção3\u001b[0m\u001b[1;33m(\u001b[0m\u001b[1;34m'arquivoNãoExisteAinda.txt'\u001b[0m\u001b[1;33m)\u001b[0m\u001b[1;33m\u001b[0m\u001b[1;33m\u001b[0m\u001b[0m\n\u001b[0;32m     33\u001b[0m \u001b[1;33m\u001b[0m\u001b[0m\n\u001b[1;32m---> 34\u001b[1;33m \u001b[0mmain\u001b[0m\u001b[1;33m(\u001b[0m\u001b[1;33m)\u001b[0m\u001b[1;33m\u001b[0m\u001b[1;33m\u001b[0m\u001b[0m\n\u001b[0m",
      "\u001b[1;32m<ipython-input-44-6de8c200948c>\u001b[0m in \u001b[0;36mmain\u001b[1;34m()\u001b[0m\n\u001b[0;32m     20\u001b[0m \u001b[1;33m\u001b[0m\u001b[0m\n\u001b[0;32m     21\u001b[0m \u001b[1;32mdef\u001b[0m \u001b[0mmain\u001b[0m\u001b[1;33m(\u001b[0m\u001b[1;33m)\u001b[0m\u001b[1;33m:\u001b[0m\u001b[1;33m\u001b[0m\u001b[1;33m\u001b[0m\u001b[0m\n\u001b[1;32m---> 22\u001b[1;33m     \u001b[0mfunção1\u001b[0m\u001b[1;33m(\u001b[0m\u001b[1;34m'a'\u001b[0m\u001b[1;33m,\u001b[0m\u001b[1;34m'b'\u001b[0m\u001b[1;33m)\u001b[0m\u001b[1;33m\u001b[0m\u001b[1;33m\u001b[0m\u001b[0m\n\u001b[0m\u001b[0;32m     23\u001b[0m \u001b[1;33m\u001b[0m\u001b[0m\n\u001b[0;32m     24\u001b[0m     \u001b[0mfunção1\u001b[0m\u001b[1;33m(\u001b[0m\u001b[1;36m1\u001b[0m\u001b[1;33m,\u001b[0m\u001b[1;36m0\u001b[0m\u001b[1;33m)\u001b[0m\u001b[1;33m\u001b[0m\u001b[1;33m\u001b[0m\u001b[0m\n",
      "\u001b[1;32m<ipython-input-44-6de8c200948c>\u001b[0m in \u001b[0;36mfunção1\u001b[1;34m(a, b)\u001b[0m\n\u001b[0;32m      1\u001b[0m \u001b[1;32mdef\u001b[0m \u001b[0mfunção1\u001b[0m\u001b[1;33m(\u001b[0m\u001b[0ma\u001b[0m\u001b[1;33m,\u001b[0m\u001b[0mb\u001b[0m\u001b[1;33m)\u001b[0m\u001b[1;33m:\u001b[0m\u001b[1;33m\u001b[0m\u001b[1;33m\u001b[0m\u001b[0m\n\u001b[1;32m----> 2\u001b[1;33m     \u001b[0mx\u001b[0m \u001b[1;33m=\u001b[0m \u001b[0mint\u001b[0m\u001b[1;33m(\u001b[0m\u001b[0ma\u001b[0m\u001b[1;33m)\u001b[0m\u001b[1;33m\u001b[0m\u001b[1;33m\u001b[0m\u001b[0m\n\u001b[0m\u001b[0;32m      3\u001b[0m     \u001b[0my\u001b[0m \u001b[1;33m=\u001b[0m \u001b[0mint\u001b[0m\u001b[1;33m(\u001b[0m\u001b[0mb\u001b[0m\u001b[1;33m)\u001b[0m\u001b[1;33m\u001b[0m\u001b[1;33m\u001b[0m\u001b[0m\n\u001b[0;32m      4\u001b[0m     \u001b[0mret\u001b[0m \u001b[1;33m=\u001b[0m \u001b[0mx\u001b[0m\u001b[1;33m/\u001b[0m\u001b[0my\u001b[0m\u001b[1;33m\u001b[0m\u001b[1;33m\u001b[0m\u001b[0m\n\u001b[0;32m      5\u001b[0m     \u001b[0mprint\u001b[0m\u001b[1;33m(\u001b[0m\u001b[0mx\u001b[0m\u001b[1;33m,\u001b[0m \u001b[1;34m'/'\u001b[0m\u001b[1;33m,\u001b[0m \u001b[0my\u001b[0m\u001b[1;33m,\u001b[0m \u001b[1;34m'='\u001b[0m\u001b[1;33m,\u001b[0m \u001b[0mret\u001b[0m\u001b[1;33m)\u001b[0m\u001b[1;33m\u001b[0m\u001b[1;33m\u001b[0m\u001b[0m\n",
      "\u001b[1;31mValueError\u001b[0m: invalid literal for int() with base 10: 'a'"
     ]
    }
   ],
   "source": [
    "def função1(a,b):\n",
    "    x = int(a)\n",
    "    y = int(b)\n",
    "    ret = x/y\n",
    "    print(x, '/', y, '=', ret)\n",
    "    return ret\n",
    "\n",
    "def função2(lista):\n",
    "    somaDePares = []\n",
    "    for i in range(0, len(lista)):\n",
    "        somaDePares.append(lista[i]+lista[i+1])\n",
    "    print(\"Soma dos pares = \", somaDePares)\n",
    "    return somaDePares\n",
    "\n",
    "def função3(arquivo):\n",
    "    file = open(arquivo, 'r')\n",
    "    for line in file:\n",
    "        print(line)\n",
    "    file.close()\n",
    "    \n",
    "def main():\n",
    "    função1('a','b')\n",
    "    \n",
    "    função1(1,0)\n",
    "    \n",
    "    lista = [10, 3, 5, 6, 9, 3]\n",
    "    função2(lista)\n",
    "    \n",
    "    lista = [10, 3, 5, 6, 'NA', 3]\n",
    "    função2(lista)\n",
    "\n",
    "    função3('arquivoNãoExisteAinda.txt')\n",
    "\n",
    "main()"
   ]
  },
  {
   "cell_type": "code",
   "execution_count": 48,
   "metadata": {},
   "outputs": [],
   "source": [
    "# Re-implemente as funções aqui e teste com o código abaixo.\n",
    "\n",
    "def função1(a,b):\n",
    "    try:\n",
    "        x = int(a)\n",
    "    except ValueError:\n",
    "        print('O primeiro argumento de entrada não é um número válido.')\n",
    "    try:\n",
    "        y = int(b)\n",
    "        print(x, '/', y, '=',  x/y)\n",
    "    except ValueError:\n",
    "        print('O segundo argumento de entrada não é um número válido.')        \n",
    "    except ZeroDivisionError:\n",
    "        print('A divisão por 0 não é válida.')\n",
    "\n",
    "def função2(lista):\n",
    "    somaDePares = []\n",
    "    for i in range(0, len(lista)):\n",
    "        try:\n",
    "            somaDePares.append(lista[i]+lista[i+1])\n",
    "        except IndexError:\n",
    "            continue\n",
    "        except TypeError:\n",
    "            continue\n",
    "    print(\"Soma dos pares = \", somaDePares)\n",
    "    return somaDePares\n",
    "\n",
    "def função3(arquivo):\n",
    "    try:\n",
    "        file = open(arquivo, 'r')\n",
    "    except FileNotFoundError:\n",
    "        print(\"***Erro*** Arquivo:\", arquivo, \"não encontrado...\")\n",
    "    else:\n",
    "        for line in file:\n",
    "            print(line)\n",
    "        file.close()"
   ]
  },
  {
   "cell_type": "code",
   "execution_count": 49,
   "metadata": {},
   "outputs": [
    {
     "name": "stdout",
     "output_type": "stream",
     "text": [
      "O primeiro argumento de entrada não é um número válido.\n",
      "O segundo argumento de entrada não é um número válido.\n",
      "A divisão por 0 não é válida.\n",
      "Soma dos pares =  [13, 8, 11, 15, 12]\n",
      "Soma dos pares =  [13, 8, 11]\n",
      "***Erro*** Arquivo: arquivoNãoExisteAinda.txt não encontrado...\n"
     ]
    }
   ],
   "source": [
    "def main():\n",
    "    função1('a','b')\n",
    "    \n",
    "    função1(1,0)\n",
    "    \n",
    "    lista = [10, 3, 5, 6, 9, 3]\n",
    "    função2(lista)\n",
    "    \n",
    "    lista = [10, 3, 5, 6, 'NA', 3]\n",
    "    função2(lista)\n",
    "\n",
    "    função3('arquivoNãoExisteAinda.txt')\n",
    "\n",
    "main()"
   ]
  },
  {
   "cell_type": "markdown",
   "metadata": {},
   "source": [
    "#### 3)  A função abaixo adiciona um elemento a uma lista dentro de um dicionário de listas. Reescreva-a para usar a cláusula `try` para tratar uma possível exceção do tipo `KeyError` caso a lista com o nome fornecido ainda não existir no dicionário, em vez de verificar de antemão se a lista existe. Use cláusulas `else` e `finally` em seu bloco `try-except`."
   ]
  },
  {
   "cell_type": "code",
   "execution_count": 60,
   "metadata": {},
   "outputs": [
    {
     "name": "stdout",
     "output_type": "stream",
     "text": [
      "A lista D foi criada.\n",
      "O elemento 123 foi adicionado à lista D.\n"
     ]
    }
   ],
   "source": [
    "def add_to_list_in_dict(thedict, listname, element):\n",
    "    if listname in thedict:\n",
    "        l = thedict[listname]\n",
    "        print(\"%s já possui %d elementos.\" % (listname, len(l)))\n",
    "    else:\n",
    "        thedict[listname] = []\n",
    "        print(\"A lista %s foi criada.\" % listname)\n",
    "\n",
    "    thedict[listname].append(element)\n",
    "\n",
    "    print(\"O elemento %s foi adicionado à lista %s.\" % (element, listname))\n",
    "\n",
    "# Código de teste.\n",
    "oDicionário = {'A':[1, 2], 'B':['a', 'b'], 'C':[True, False]}\n",
    "nomeDaLista = 'D'\n",
    "elemento = 123\n",
    "add_to_list_in_dict(oDicionário, nomeDaLista, elemento)"
   ]
  },
  {
   "cell_type": "code",
   "execution_count": 61,
   "metadata": {},
   "outputs": [
    {
     "name": "stdout",
     "output_type": "stream",
     "text": [
      "A lista E foi criada.\n",
      "O elemento 7864 foi adicionado à lista E.\n"
     ]
    }
   ],
   "source": [
    "def add_to_list_in_dict(thedict, listname, element):\n",
    "    try:\n",
    "        l = thedict[listname]\n",
    "    except KeyError:\n",
    "        thedict[listname] = []\n",
    "        print(\"A lista %s foi criada.\" % listname)\n",
    "    else:\n",
    "        print(\"%s já possui %d elementos.\" % (listname, len(l)))\n",
    "    finally:\n",
    "        thedict[listname].append(element)\n",
    "        print(\"O elemento %s foi adicionado à lista %s.\" % (element, listname))\n",
    "        \n",
    "# Código de teste.\n",
    "oDicionário = {'A':[1, 2], 'B':['a', 'b'], 'C':[True, False]}\n",
    "nomeDaLista = 'E'\n",
    "elemento = 7864\n",
    "add_to_list_in_dict(oDicionário, nomeDaLista, elemento)"
   ]
  }
 ],
 "metadata": {
  "kernelspec": {
   "display_name": "Python 3",
   "language": "python",
   "name": "python3"
  },
  "language_info": {
   "codemirror_mode": {
    "name": "ipython",
    "version": 3
   },
   "file_extension": ".py",
   "mimetype": "text/x-python",
   "name": "python",
   "nbconvert_exporter": "python",
   "pygments_lexer": "ipython3",
   "version": "3.7.7"
  }
 },
 "nbformat": 4,
 "nbformat_minor": 4
}
