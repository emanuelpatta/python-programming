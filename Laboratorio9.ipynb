{
 "cells": [
  {
   "cell_type": "markdown",
   "metadata": {},
   "source": [
    "# Laboratório #9\n",
    "\n",
    "### ATENCÃO\n",
    "\n",
    "1. Para cada um dos exercícios a seguir, faça o seguinte:\n",
    "    * Adicione comentários ao seu código. Os comentários servem para explicar o código, ajudando você a lembrar do que se trata aquele trecho de código, como também outras pessoas a entenderem o que foi feito.\n",
    "    * Caso o exercício involva a implementação de uma função:\n",
    "        + Coloque um comentário dizendo o que a função faz, use **docstrings**.\n",
    "        + Escolha nomes explicativos para suas funções e parâmetros.\n",
    "    \n",
    "2. Quando você terminar os exercícios do laboratório, vá ao menu do Jupyter ou Colab e selecione a opção para fazer download do notebook.\n",
    "    * Os notebooks tem extensão .ipynb. \n",
    "    * Este deve ser o arquivo que você irá entregar.\n",
    "    * No Jupyter vá até a opção **File** -> **Download as** -> **Notebook (.ipynb)**.\n",
    "    * No Colab vá até a opção **File** -> **Download .ipynb**."
   ]
  },
  {
   "cell_type": "markdown",
   "metadata": {},
   "source": [
    "**Nome**:\n",
    "\n",
    "**Matrícula**:"
   ]
  },
  {
   "cell_type": "markdown",
   "metadata": {},
   "source": [
    "## Exercícios"
   ]
  },
  {
   "cell_type": "markdown",
   "metadata": {},
   "source": [
    "#### 1)  Escreva uma função chamada `somaValoresArquivo()` que receba como parâmetro de entrada o nome de um arquivo. Esta função deve ler o arquivo, o qual será um arquivo contendo ao menos 1 número real por linha, e para cada linha a função deve imprimir a sua soma. Ao final, o programa deve imprimir também a soma total.\n",
    "\n",
    "Exemplo: para o arquivo `numeros.txt` com as seguintes linhas:\n",
    "\n",
    "```python\n",
    "5 4 3 2 1 \n",
    "4 4 4 \n",
    "2.7 \n",
    "3.14 2.1\n",
    "```\n",
    "\n",
    "a saída da função deve ser:\n",
    "\n",
    "```python\n",
    "Soma: 15.00 \n",
    "Soma: 12.00 \n",
    "Soma: 2.70 \n",
    "Soma: 5.24 \n",
    "Total: 34.94\n",
    "```"
   ]
  },
  {
   "cell_type": "code",
   "execution_count": 16,
   "metadata": {},
   "outputs": [],
   "source": [
    "def somaValoresArquivo(file):\n",
    "    with open(file) as f:\n",
    "        somaTotal = 0.0\n",
    "        for linha in f:\n",
    "            valores = linha.split()\n",
    "            somaLocal = 0.0\n",
    "            for valor in valores:\n",
    "                somaLocal += float(valor)\n",
    "            somaTotal += somaLocal\n",
    "            print('Soma:', somaLocal)\n",
    "        print('Total:', somaTotal)"
   ]
  },
  {
   "cell_type": "markdown",
   "metadata": {},
   "source": [
    "Teste sua implementação com o código abaixo, o qual deve resultar na seguinte saída esperada:\n",
    "\n",
    "```python\n",
    "Soma: 15.00 \n",
    "Soma: 12.00 \n",
    "Soma: 2.70 \n",
    "Soma: 5.24 \n",
    "Total: 34.94\n",
    "```"
   ]
  },
  {
   "cell_type": "code",
   "execution_count": 76,
   "metadata": {},
   "outputs": [
    {
     "name": "stdout",
     "output_type": "stream",
     "text": [
      "Soma: 15.0\n",
      "Soma: 12.0\n",
      "Soma: 2.7\n",
      "Soma: 5.24\n",
      "Total: 34.94\n"
     ]
    }
   ],
   "source": [
    "with open('numeros.txt', 'w') as f:\n",
    "    f.write('5 4 3 2 1\\n')\n",
    "    f.write('4 4 4\\n')\n",
    "    f.write('2.7\\n')\n",
    "    f.write('3.14 2.1')\n",
    "    \n",
    "somaValoresArquivo('numeros.txt')    "
   ]
  },
  {
   "cell_type": "markdown",
   "metadata": {},
   "source": [
    "#### 2)  Implemente uma função chamada `juntarArquivos` que receba como parâmetros de entrada dois nomes de arquivos. Um arquivo contém um número par por linha, e o outro arquivo contém um número ímpar por linha. Os números nos arquivos podem estar fora de ordem. A função deve receber como entrada o nome destes 2 arquivos e criar um outro arquivo que tenha todas as linhas dos 2 arquivos, porém os números devem estar ordenados do menor para o maior. O nome do arquivo a ser criado deve ser uma composição dos nomes dos arquivos de entrada (por exemplo, se os arquivos de entrada foram `numerosPares.txt` e `numerosImpares.txt`, o nome do arquivo a ser criado deve ser `numerosParesnumerosImpares.txt`). Sua função deve retornar o nome do arquivo criado."
   ]
  },
  {
   "cell_type": "code",
   "execution_count": 77,
   "metadata": {},
   "outputs": [],
   "source": [
    "def ordenaValoresArquivo(file):\n",
    "    with open(file) as f:\n",
    "        linhas = f.readlines()\n",
    "        valores = []\n",
    "        for linha in linhas:\n",
    "            valores.append(int(linha))\n",
    "        valores.sort(reverse=False)\n",
    "        return valores\n",
    "\n",
    "def juntarArquivos(file1, file2):\n",
    "    valores1 = ordenaValoresArquivo(file1)\n",
    "    valores2 = ordenaValoresArquivo(file2)\n",
    "    valores1 += valores2\n",
    "    valores1.sort()\n",
    "    \n",
    "    file1 = file1.split('.')\n",
    "    file2 = file2.split('.')\n",
    "    file = file1[0] + file2[0] + '.txt'\n",
    "    \n",
    "    with open(file, 'w') as f:\n",
    "        for valor in valores1:\n",
    "            f.write(str(valor))\n",
    "            f.write('\\n')\n",
    "    return file"
   ]
  },
  {
   "cell_type": "markdown",
   "metadata": {},
   "source": [
    "Teste sua implementação com o código abaixo, o qual deve resultar na seguinte saída esperada:\n",
    "\n",
    "```python\n",
    "Nome do arquivo de saída: numerosParesnumerosImpares.txt\n",
    "Valores do arquivo:\n",
    "2\n",
    "3\n",
    "4\n",
    "5\n",
    "6\n",
    "7\n",
    "12\n",
    "33\n",
    "```"
   ]
  },
  {
   "cell_type": "code",
   "execution_count": 81,
   "metadata": {},
   "outputs": [
    {
     "name": "stdout",
     "output_type": "stream",
     "text": [
      "Nome do arquivo de saída: numerosParesnumerosImpares.txt\n",
      "Valores do arquivo:\n",
      "2\n",
      "3\n",
      "4\n",
      "5\n",
      "6\n",
      "7\n",
      "12\n",
      "33\n"
     ]
    }
   ],
   "source": [
    "with open('numerosPares.txt', 'w') as f:\n",
    "    f.write('12\\n')\n",
    "    f.write('6\\n')\n",
    "    f.write('2\\n')\n",
    "    f.write('4')\n",
    "    \n",
    "with open('numerosImpares.txt', 'w') as f:\n",
    "    f.write('33\\n')\n",
    "    f.write('7\\n')\n",
    "    f.write('3\\n')\n",
    "    f.write('5')\n",
    "    \n",
    "file = juntarArquivos('numerosPares.txt', 'numerosImpares.txt')\n",
    "\n",
    "print('Nome do arquivo de saída:', file)\n",
    "\n",
    "print('Valores do arquivo:')\n",
    "with open(file) as f:\n",
    "    for linha in f:\n",
    "        print(linha, end='')"
   ]
  },
  {
   "cell_type": "markdown",
   "metadata": {},
   "source": [
    "#### 3)  Implemente uma função chamada `imprimeNotasAlunos` que imprime o nome e as notas dos alunos que têm mais de seis notas. Esta função deve receber como parâmetro de entrada o nome de um arquivo. Este arquivo contém uma linha para cada aluno de uma turma de estudantes. O nome de cada estudante está no início da cada linha e é seguido pelas suas notas."
   ]
  },
  {
   "cell_type": "code",
   "execution_count": 105,
   "metadata": {},
   "outputs": [],
   "source": [
    "def imprimeNotasAlunos(file):\n",
    "    with open(file) as f:\n",
    "        for linha in f:\n",
    "            aluno = linha.split()\n",
    "            if len(aluno) >= 7:\n",
    "                print('Aluno: %s - Notas: ' % (aluno[0]), end='')\n",
    "                for i in range(1, len(aluno)):\n",
    "                    if(i < len(aluno)-1):\n",
    "                        print('%s, ' % (aluno[i]), end='')\n",
    "                    else:\n",
    "                        print('%s' % (aluno[i]))"
   ]
  },
  {
   "cell_type": "markdown",
   "metadata": {},
   "source": [
    "Teste sua implementação com o código abaixo, o qual deve resultar na seguinte saída esperada:\n",
    "\n",
    "```python\n",
    "Aluno: suzana - Notas: 8, 22, 17, 14, 32, 17, 24, 21, 2, 9, 11, 17\n",
    "Aluno: gisela - Notas: 12, 28, 21, 45, 26, 10\n",
    "```"
   ]
  },
  {
   "cell_type": "code",
   "execution_count": 108,
   "metadata": {},
   "outputs": [
    {
     "name": "stdout",
     "output_type": "stream",
     "text": [
      "Aluno: suzana - Notas: 8, 22, 17, 14, 32, 17, 24, 21, 2, 9, 11, 17\n",
      "Aluno: gisela - Notas: 12, 28, 21, 45, 26, 10\n"
     ]
    }
   ],
   "source": [
    "notas = [\n",
    "    'jose 10 15 20 30 40\\n',\n",
    "    'pedro 23 16 19 22\\n',\n",
    "    'suzana 8 22 17 14 32 17 24 21 2 9 11 17\\n',\n",
    "    'gisela 12 28 21 45 26 10\\n',\n",
    "    'joao 14 32 25 16 89'\n",
    "]\n",
    "\n",
    "with open('notas_alunos.txt', 'w') as f:\n",
    "    f.writelines(notas)\n",
    "\n",
    "imprimeNotasAlunos('notas_alunos.txt')"
   ]
  },
  {
   "cell_type": "markdown",
   "metadata": {},
   "source": [
    "#### 4)  Usando o arquivo do exercício 3, implemente uma função chamada `calculaMediaAlunos` que calcula a média das notas de cada aluno e imprime o nome e a média de cada aluno."
   ]
  },
  {
   "cell_type": "code",
   "execution_count": 115,
   "metadata": {},
   "outputs": [],
   "source": [
    "def calculaMediaAlunos(file):\n",
    "    with open(file) as f:\n",
    "        for linha in f:\n",
    "            aluno = linha.split()\n",
    "            \n",
    "            media = 0.0\n",
    "            for i in range(1, len(aluno)):\n",
    "                media += int(aluno[i])\n",
    "            media /= (len(aluno)-1)\n",
    "\n",
    "            print('Nome: %s - Média: %1.2f' % (aluno[0], media))"
   ]
  },
  {
   "cell_type": "markdown",
   "metadata": {},
   "source": [
    "Teste sua implementação com o código abaixo, o qual deve resultar na seguinte saída esperada:\n",
    "\n",
    "```python\n",
    "Nome: jose - Média: 23.00\n",
    "Nome: pedro - Média: 20.00\n",
    "Nome: suzana - Média: 16.17\n",
    "Nome: gisela - Média: 23.67\n",
    "Nome: joao - Média: 35.20\n",
    "```"
   ]
  },
  {
   "cell_type": "code",
   "execution_count": 117,
   "metadata": {},
   "outputs": [
    {
     "name": "stdout",
     "output_type": "stream",
     "text": [
      "Nome: jose - Média: 23.00\n",
      "Nome: pedro - Média: 20.00\n",
      "Nome: suzana - Média: 16.17\n",
      "Nome: gisela - Média: 23.67\n",
      "Nome: joao - Média: 35.20\n"
     ]
    }
   ],
   "source": [
    "calculaMediaAlunos('notas_alunos.txt')"
   ]
  },
  {
   "cell_type": "markdown",
   "metadata": {},
   "source": [
    "#### 5)  Usando o arquivo usado no exercício 3, implemente uma função chamada `imprimeNotaMaxMin` que calcula a nota mínima e máxima de cada aluno e imprima o nome de cada aluno junto com a sua nota máxima e mínima."
   ]
  },
  {
   "cell_type": "code",
   "execution_count": 118,
   "metadata": {},
   "outputs": [],
   "source": [
    "def imprimeNotaMaxMin(file):\n",
    "    \n",
    "    with open(file) as f:\n",
    "        for linha in f:\n",
    "            aluno = linha.split()\n",
    "            \n",
    "            notas = []\n",
    "            for i in range(1, len(aluno)):\n",
    "                notas.append(int(aluno[i]))\n",
    "            notaMin = min(notas)\n",
    "            notaMax = max(notas)\n",
    "    \n",
    "            print('Nome: %s - Nota mínima: %d - Nota máxima: %d' % (aluno[0], notaMin, notaMax))"
   ]
  },
  {
   "cell_type": "markdown",
   "metadata": {},
   "source": [
    "Teste sua implementação com o código abaixo, o qual deve resultar na seguinte saída esperada:\n",
    "\n",
    "```python\n",
    "Nome: jose - Nota mínima: 10 - Nota máxima: 40\n",
    "Nome: pedro - Nota mínima: 16 - Nota máxima: 23\n",
    "Nome: suzana - Nota mínima: 2 - Nota máxima: 32\n",
    "Nome: gisela - Nota mínima: 10 - Nota máxima: 45\n",
    "Nome: joao - Nota mínima: 14 - Nota máxima: 89\n",
    "```"
   ]
  },
  {
   "cell_type": "code",
   "execution_count": 119,
   "metadata": {},
   "outputs": [
    {
     "name": "stdout",
     "output_type": "stream",
     "text": [
      "Nome: jose - Nota mínima: 10 - Nota máxima: 40\n",
      "Nome: pedro - Nota mínima: 16 - Nota máxima: 23\n",
      "Nome: suzana - Nota mínima: 2 - Nota máxima: 32\n",
      "Nome: gisela - Nota mínima: 10 - Nota máxima: 45\n",
      "Nome: joao - Nota mínima: 14 - Nota máxima: 89\n"
     ]
    }
   ],
   "source": [
    "imprimeNotaMaxMin('notas_alunos.txt')"
   ]
  },
  {
   "cell_type": "markdown",
   "metadata": {},
   "source": [
    "#### 6) Implemente uma função chamada `calcularBatimentoCardiacoMedio` que receba um arquivo CSV como parâmetro de entrada, calcule e retorne a frequência cardíaca média dos usuários presentes no arquivo. Em seguida, implemente uma segunda função chamada `pessoaEmPerigo` que recebe o mesmo arquivo CSV como parâmetro de entrada, o valor da frequência cardíaca média e imprime todos os usuários que possuem frequência cardíaca maior ou igual a frequência cardíaca média."
   ]
  },
  {
   "cell_type": "code",
   "execution_count": 120,
   "metadata": {},
   "outputs": [],
   "source": [
    "def calcularBatimentoCardiacoMedio(file):\n",
    "    with open(file) as f:\n",
    "        csv_reader = csv.reader(f, delimiter=',')\n",
    "        cnt = 0\n",
    "        avgHeartRate = 0\n",
    "        for linha in csv_reader:\n",
    "            if(cnt > 0):\n",
    "                avgHeartRate += float(linha[6])\n",
    "            cnt += 1\n",
    "        avgHeartRate /= (cnt-1)\n",
    "    return avgHeartRate\n",
    "\n",
    "def pessoaEmPerigo(file, avgHeartRate):\n",
    "    with open(file) as f:\n",
    "        csv_reader = csv.reader(f, delimiter=',')\n",
    "        cnt = 0\n",
    "        for linha in csv_reader:\n",
    "            if(cnt > 0):\n",
    "                if(float(linha[6]) >= avgHeartRate):\n",
    "                    print('User ID: %s - Heart rate: %s - Average heart rate: %1.2f' % (linha[0],linha[6],avgHeartRate))\n",
    "            cnt += 1"
   ]
  },
  {
   "cell_type": "markdown",
   "metadata": {},
   "source": [
    "Teste sua implementação com o código abaixo, o qual deve resultar na seguinte saída esperada:\n",
    "\n",
    "```python\n",
    "Batimento cardíaco médio: 93.0625\n",
    "User ID: 14733363 - Heart rate: 105.0 - Average heart rate: 93.06\n",
    "User ID: 14861698 - Heart rate: 94.0 - Average heart rate: 93.06\n",
    "User ID: 16180408 - Heart rate: 100.0 - Average heart rate: 93.06\n",
    "User ID: 15130815 - Heart rate: 96.0 - Average heart rate: 93.06\n",
    "User ID: 19602372 - Heart rate: 95.0 - Average heart rate: 93.06\n",
    "User ID: 11117088 - Heart rate: 100.0 - Average heart rate: 93.06\n",
    "User ID: 12132339 - Heart rate: 97.0 - Average heart rate: 93.06\n",
    "User ID: 13681290 - Heart rate: 100.0 - Average heart rate: 93.06\n",
    "User ID: 17557348 - Heart rate: 104.0 - Average heart rate: 93.06\n",
    "```"
   ]
  },
  {
   "cell_type": "code",
   "execution_count": 121,
   "metadata": {},
   "outputs": [
    {
     "name": "stdout",
     "output_type": "stream",
     "text": [
      "Batimento cardíaco médio: 93.0625\n",
      "User ID: 14733363 - Heart rate: 105.0 - Average heart rate: 93.06\n",
      "User ID: 14861698 - Heart rate: 94.0 - Average heart rate: 93.06\n",
      "User ID: 16180408 - Heart rate: 100.0 - Average heart rate: 93.06\n",
      "User ID: 15130815 - Heart rate: 96.0 - Average heart rate: 93.06\n",
      "User ID: 19602372 - Heart rate: 95.0 - Average heart rate: 93.06\n",
      "User ID: 11117088 - Heart rate: 100.0 - Average heart rate: 93.06\n",
      "User ID: 12132339 - Heart rate: 97.0 - Average heart rate: 93.06\n",
      "User ID: 13681290 - Heart rate: 100.0 - Average heart rate: 93.06\n",
      "User ID: 17557348 - Heart rate: 104.0 - Average heart rate: 93.06\n"
     ]
    }
   ],
   "source": [
    "import csv\n",
    "\n",
    "linhas = [\n",
    "    ['User_ID','Gender','Age','Height','Weight','Duration','Heart_Rate','Body_Temp'],\n",
    "    [14733363,'male',68,190.0,94.0,29.0,105.0,40.8],\n",
    "    [14861698,'female',20,166.0,60.0,14.0,94.0,40.3],\n",
    "    [11179863,'male',69,179.0,79.0,5.0,88.0,38.7],\n",
    "    [16180408,'female',34,179.0,71.0,13.0,100.0,40.5],\n",
    "    [17771927,'female',27,154.0,58.0,10.0,81.0,39.8],\n",
    "    [15130815,'female',36,151.0,50.0,23.0,96.0,40.7],\n",
    "    [19602372,'female',33,158.0,56.0,22.0,95.0,40.5],\n",
    "    [11117088,'male',41,175.0,85.0,25.0,100.0,40.7],\n",
    "    [12132339,'male',60,186.0,94.0,21.0,97.0,40.4],\n",
    "    [17964668,'female',26,146.0,51.0,16.0,90.0,40.2],\n",
    "    [13723164,'female',36,177.0,76.0,1.0,74.0,37.8],\n",
    "    [13681290,'female',21,157.0,56.0,17.0,100.0,40.0],\n",
    "    [15566424,'male',66,171.0,79.0,11.0,90.0,40.0],\n",
    "    [12891699,'female',32,157.0,54.0,18.0,93.0,40.4],\n",
    "    [13823829,'male',53,182.0,85.0,2.0,82.0,38.1],\n",
    "    [17557348,'female',39,156.0,62.0,28.0,104.0,40.8]\n",
    "]\n",
    "\n",
    "with open('exercicios.csv', 'w', newline='') as f:\n",
    "    csv_writer = csv.writer(f, delimiter=',')\n",
    "    csv_writer.writerows(linhas)\n",
    "    \n",
    "avgHeartRate = calcularBatimentoCardiacoMedio('exercicios.csv')\n",
    "print('Batimento cardíaco médio:', avgHeartRate)\n",
    "\n",
    "pessoaEmPerigo('exercicios.csv', avgHeartRate)"
   ]
  }
 ],
 "metadata": {
  "kernelspec": {
   "display_name": "Python 3",
   "language": "python",
   "name": "python3"
  },
  "language_info": {
   "codemirror_mode": {
    "name": "ipython",
    "version": 3
   },
   "file_extension": ".py",
   "mimetype": "text/x-python",
   "name": "python",
   "nbconvert_exporter": "python",
   "pygments_lexer": "ipython3",
   "version": "3.7.3"
  }
 },
 "nbformat": 4,
 "nbformat_minor": 4
}
